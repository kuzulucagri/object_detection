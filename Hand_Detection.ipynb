{
 "cells": [
  {
   "cell_type": "code",
   "execution_count": 5,
   "metadata": {},
   "outputs": [],
   "source": [
    "import cv2 #That library for image processing which name is openCV\n",
    "import numpy as np #That library is for numpy and we are gonna use that library for calculate matrices."
   ]
  },
  {
   "cell_type": "code",
   "execution_count": 6,
   "metadata": {},
   "outputs": [],
   "source": [
    "camera = cv2.VideoCapture(0) #We described camera which is we used.\n",
    "\n",
    "while True: #We should use a loop because the frame must be shown in every single miliseconds until break(\"q\")\n",
    "    ret,square = camera.read() #That line means, we read camera and declare in square \n",
    "    \n",
    "    graySquare = cv2.cvtColor(square,cv2.COLOR_BGR2GRAY) #We convert the color of the camera BGR to Gray\n",
    "    \n",
    "    myObject = cv2.imread(\"handd.png\",0) #We read images and declare to myObject\n",
    "    \n",
    "    width,height = myObject.shape #We invoked shape for declare width and height\n",
    "    \n",
    "    res = cv2.matchTemplate(graySquare,myObject,cv2.TM_CCOEFF_NORMED) \n",
    "    \n",
    "    tresholdValue = 0.8 #We assigned double value to thresholdValue\n",
    "    \n",
    "    loc = np.where(res > tresholdValue) #That function return us values which res > thresholdValue\n",
    "    \n",
    "    for n in zip(*loc[::-1]): #Here we have loop for cath the image and take it inside of green box.\n",
    "        cv2.rectangle(square,n,(n[0] + height,n[1] + width),(0,255,0),2)\n",
    "    \n",
    "    cv2.imshow(\"graySquare\",graySquare) #That is for show frames which is converted Images.\n",
    "    cv2.imshow(\"Camera\",square) #That is for show frames which is normal Images\n",
    "    \n",
    "    \n",
    "    if cv2.waitKey(25) & 0XFF == ord(\"q\"): #If we entered \"q\" then break\n",
    "        break\n",
    "        \n",
    "camera.release() #We dropped frames.\n",
    "\n",
    "cv2.destroyAllWindows() #We cleaned all window with that function."
   ]
  },
  {
   "cell_type": "code",
   "execution_count": null,
   "metadata": {},
   "outputs": [],
   "source": []
  }
 ],
 "metadata": {
  "kernelspec": {
   "display_name": "Python 3",
   "language": "python",
   "name": "python3"
  },
  "language_info": {
   "codemirror_mode": {
    "name": "ipython",
    "version": 3
   },
   "file_extension": ".py",
   "mimetype": "text/x-python",
   "name": "python",
   "nbconvert_exporter": "python",
   "pygments_lexer": "ipython3",
   "version": "3.8.3"
  }
 },
 "nbformat": 4,
 "nbformat_minor": 4
}
